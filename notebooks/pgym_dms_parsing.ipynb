{
 "cells": [
  {
   "cell_type": "markdown",
   "source": [
    "#  Helper notebook to dms_workflow\n",
    "### 1- Makes adjustments on Protein Gym Substitution tables \n",
    "### 2- Such adjustments are intended to prepare the data for PhyDMS\n",
    "### 3- The column \"mutant\" in the substitutions table will be broke down into three new columns:\n",
    "### 'Wt_aminoacid', 'Site', and 'Mt_aminoacid'"
   ],
   "metadata": {
    "collapsed": false
   },
   "id": "85150d58267af7ba"
  },
  {
   "cell_type": "code",
   "execution_count": 3,
   "outputs": [],
   "source": [
    "# == NATIVE MODULES\n",
    "import os\n",
    "# == INSTALLED MODULES\n",
    "import pandas as pd\n",
    "import re"
   ],
   "metadata": {
    "collapsed": false,
    "ExecuteTime": {
     "end_time": "2023-12-05T21:03:59.647512Z",
     "start_time": "2023-12-05T21:03:58.385046Z"
    }
   },
   "id": "6da871f6291de777"
  },
  {
   "cell_type": "code",
   "execution_count": 4,
   "outputs": [],
   "source": [
    "# == FILEPATHS ==\n",
    "# All substitution tables should be stored in this directory\n",
    "source_directory = \"/groups/doudna/projects/daniel_projects/prywes_n/pgym_input_data\""
   ],
   "metadata": {
    "collapsed": false,
    "ExecuteTime": {
     "end_time": "2023-12-05T21:03:59.790092Z",
     "start_time": "2023-12-05T21:03:59.785886Z"
    }
   },
   "id": "e545b3e186c7a142"
  },
  {
   "cell_type": "code",
   "execution_count": null,
   "outputs": [
    {
     "name": "stderr",
     "output_type": "stream",
     "text": [
      "/tmp/ipykernel_3814828/3962758492.py:11: SettingWithCopyWarning: \n",
      "A value is trying to be set on a copy of a slice from a DataFrame.\n",
      "Try using .loc[row_indexer,col_indexer] = value instead\n",
      "\n",
      "See the caveats in the documentation: https://pandas.pydata.org/pandas-docs/stable/user_guide/indexing.html#returning-a-view-versus-a-copy\n",
      "  df_filtered[['Wt_aminoacid', 'Site', 'Mt_aminoacid']] = df_filtered['mutant'].apply(lambda x: extract_groups(re.search(r\"(\\w)(\\d+)(\\w)\", x)))\n",
      "/tmp/ipykernel_3814828/3962758492.py:11: SettingWithCopyWarning: \n",
      "A value is trying to be set on a copy of a slice from a DataFrame.\n",
      "Try using .loc[row_indexer,col_indexer] = value instead\n",
      "\n",
      "See the caveats in the documentation: https://pandas.pydata.org/pandas-docs/stable/user_guide/indexing.html#returning-a-view-versus-a-copy\n",
      "  df_filtered[['Wt_aminoacid', 'Site', 'Mt_aminoacid']] = df_filtered['mutant'].apply(lambda x: extract_groups(re.search(r\"(\\w)(\\d+)(\\w)\", x)))\n",
      "/tmp/ipykernel_3814828/3962758492.py:11: SettingWithCopyWarning: \n",
      "A value is trying to be set on a copy of a slice from a DataFrame.\n",
      "Try using .loc[row_indexer,col_indexer] = value instead\n",
      "\n",
      "See the caveats in the documentation: https://pandas.pydata.org/pandas-docs/stable/user_guide/indexing.html#returning-a-view-versus-a-copy\n",
      "  df_filtered[['Wt_aminoacid', 'Site', 'Mt_aminoacid']] = df_filtered['mutant'].apply(lambda x: extract_groups(re.search(r\"(\\w)(\\d+)(\\w)\", x)))\n",
      "/tmp/ipykernel_3814828/3962758492.py:11: SettingWithCopyWarning: \n",
      "A value is trying to be set on a copy of a slice from a DataFrame.\n",
      "Try using .loc[row_indexer,col_indexer] = value instead\n",
      "\n",
      "See the caveats in the documentation: https://pandas.pydata.org/pandas-docs/stable/user_guide/indexing.html#returning-a-view-versus-a-copy\n",
      "  df_filtered[['Wt_aminoacid', 'Site', 'Mt_aminoacid']] = df_filtered['mutant'].apply(lambda x: extract_groups(re.search(r\"(\\w)(\\d+)(\\w)\", x)))\n",
      "/tmp/ipykernel_3814828/3962758492.py:11: SettingWithCopyWarning: \n",
      "A value is trying to be set on a copy of a slice from a DataFrame.\n",
      "Try using .loc[row_indexer,col_indexer] = value instead\n",
      "\n",
      "See the caveats in the documentation: https://pandas.pydata.org/pandas-docs/stable/user_guide/indexing.html#returning-a-view-versus-a-copy\n",
      "  df_filtered[['Wt_aminoacid', 'Site', 'Mt_aminoacid']] = df_filtered['mutant'].apply(lambda x: extract_groups(re.search(r\"(\\w)(\\d+)(\\w)\", x)))\n",
      "/tmp/ipykernel_3814828/3962758492.py:11: SettingWithCopyWarning: \n",
      "A value is trying to be set on a copy of a slice from a DataFrame.\n",
      "Try using .loc[row_indexer,col_indexer] = value instead\n",
      "\n",
      "See the caveats in the documentation: https://pandas.pydata.org/pandas-docs/stable/user_guide/indexing.html#returning-a-view-versus-a-copy\n",
      "  df_filtered[['Wt_aminoacid', 'Site', 'Mt_aminoacid']] = df_filtered['mutant'].apply(lambda x: extract_groups(re.search(r\"(\\w)(\\d+)(\\w)\", x)))\n",
      "/tmp/ipykernel_3814828/3962758492.py:11: SettingWithCopyWarning: \n",
      "A value is trying to be set on a copy of a slice from a DataFrame.\n",
      "Try using .loc[row_indexer,col_indexer] = value instead\n",
      "\n",
      "See the caveats in the documentation: https://pandas.pydata.org/pandas-docs/stable/user_guide/indexing.html#returning-a-view-versus-a-copy\n",
      "  df_filtered[['Wt_aminoacid', 'Site', 'Mt_aminoacid']] = df_filtered['mutant'].apply(lambda x: extract_groups(re.search(r\"(\\w)(\\d+)(\\w)\", x)))\n",
      "/tmp/ipykernel_3814828/3962758492.py:11: SettingWithCopyWarning: \n",
      "A value is trying to be set on a copy of a slice from a DataFrame.\n",
      "Try using .loc[row_indexer,col_indexer] = value instead\n",
      "\n",
      "See the caveats in the documentation: https://pandas.pydata.org/pandas-docs/stable/user_guide/indexing.html#returning-a-view-versus-a-copy\n",
      "  df_filtered[['Wt_aminoacid', 'Site', 'Mt_aminoacid']] = df_filtered['mutant'].apply(lambda x: extract_groups(re.search(r\"(\\w)(\\d+)(\\w)\", x)))\n",
      "/tmp/ipykernel_3814828/3962758492.py:11: SettingWithCopyWarning: \n",
      "A value is trying to be set on a copy of a slice from a DataFrame.\n",
      "Try using .loc[row_indexer,col_indexer] = value instead\n",
      "\n",
      "See the caveats in the documentation: https://pandas.pydata.org/pandas-docs/stable/user_guide/indexing.html#returning-a-view-versus-a-copy\n",
      "  df_filtered[['Wt_aminoacid', 'Site', 'Mt_aminoacid']] = df_filtered['mutant'].apply(lambda x: extract_groups(re.search(r\"(\\w)(\\d+)(\\w)\", x)))\n"
     ]
    }
   ],
   "source": [
    "for root, dirs, files in os.walk(source_directory):\n",
    "    for file in files:\n",
    "        if file.endswith('.csv'):\n",
    "            filepath = f\"{root}/{file}\"\n",
    "            df = pd.read_csv(filepath, index_col=False)\n",
    "            # Filter rows where 'mutant' column contains ':'\n",
    "            df_filtered = df[~df['mutant'].str.contains(':')]\n",
    "            # Define a lambda function to extract groups from the mutant column\n",
    "            extract_groups = lambda m: pd.Series([m.group(1), m.group(2), m.group(3)], index=['Wt_aminoacid', 'Site', 'Mt_aminoacid'])\n",
    "            # Apply the lambda function to the 'mutant' column and break it down\n",
    "            df_filtered[['Wt_aminoacid', 'Site', 'Mt_aminoacid']] = df_filtered['mutant'].apply(lambda x: extract_groups(re.search(r\"(\\w)(\\d+)(\\w)\", x)))\n",
    "            df_filtered.to_csv(filepath, index=False)"
   ],
   "metadata": {
    "collapsed": false,
    "is_executing": true,
    "ExecuteTime": {
     "start_time": "2023-12-05T21:04:02.514561Z"
    }
   },
   "id": "f71680aa75dc6f01"
  },
  {
   "cell_type": "code",
   "execution_count": 1,
   "outputs": [
    {
     "ename": "NameError",
     "evalue": "name 'df' is not defined",
     "output_type": "error",
     "traceback": [
      "\u001B[0;31m---------------------------------------------------------------------------\u001B[0m",
      "\u001B[0;31mNameError\u001B[0m                                 Traceback (most recent call last)",
      "Cell \u001B[0;32mIn[1], line 1\u001B[0m\n\u001B[0;32m----> 1\u001B[0m \u001B[38;5;28mprint\u001B[39m(\u001B[43mdf\u001B[49m\u001B[38;5;241m.\u001B[39mcolumns)\n",
      "\u001B[0;31mNameError\u001B[0m: name 'df' is not defined"
     ]
    }
   ],
   "source": [
    "print(df.columns)"
   ],
   "metadata": {
    "collapsed": false,
    "ExecuteTime": {
     "end_time": "2023-12-05T20:25:43.034265Z",
     "start_time": "2023-12-05T20:25:42.604197Z"
    }
   },
   "id": "48d320660d0e7d3b"
  },
  {
   "cell_type": "code",
   "execution_count": null,
   "outputs": [],
   "source": [],
   "metadata": {
    "collapsed": false
   },
   "id": "7dd1ed7c98f99be0"
  }
 ],
 "metadata": {
  "kernelspec": {
   "display_name": "Python 3",
   "language": "python",
   "name": "python3"
  },
  "language_info": {
   "codemirror_mode": {
    "name": "ipython",
    "version": 2
   },
   "file_extension": ".py",
   "mimetype": "text/x-python",
   "name": "python",
   "nbconvert_exporter": "python",
   "pygments_lexer": "ipython2",
   "version": "2.7.6"
  }
 },
 "nbformat": 4,
 "nbformat_minor": 5
}
