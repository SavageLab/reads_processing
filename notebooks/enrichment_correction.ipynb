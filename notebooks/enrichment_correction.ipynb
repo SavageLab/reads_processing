{
 "cells": [
  {
   "cell_type": "markdown",
   "source": [
    "#  Helper notebook to dms_workflow\n",
    "### 1- Corrects the enrichment data transformation to match the scale expected by Phydms\n",
    "### 2- Takes a dataframe from a folder in the repo and outputs to the designated path for `dms_workflow.smk`\n",
    "### 3- The format of the sheet remains unchanged"
   ],
   "metadata": {
    "collapsed": false
   },
   "id": "6a7059ec11367932"
  },
  {
   "cell_type": "code",
   "execution_count": 18,
   "outputs": [],
   "source": [
    "import pandas as pd"
   ],
   "metadata": {
    "collapsed": false,
    "ExecuteTime": {
     "end_time": "2023-11-23T01:14:09.361069Z",
     "start_time": "2023-11-23T01:14:09.349466Z"
    }
   },
   "id": "initial_id"
  },
  {
   "cell_type": "code",
   "execution_count": 23,
   "outputs": [],
   "source": [
    "enrichment_file = \"/groups/doudna/team_resources/toolbox/phylo_dms_workflow/scratch/rbsc_enrichmentScores.csv\"\n",
    "output_path = \"/groups/doudna/projects/daniel_projects/prywes_n/input_data/dms_data.csv\""
   ],
   "metadata": {
    "collapsed": false,
    "ExecuteTime": {
     "end_time": "2023-11-23T01:14:44.255468Z",
     "start_time": "2023-11-23T01:14:44.240058Z"
    }
   },
   "id": "327101ff3651533d"
  },
  {
   "cell_type": "code",
   "execution_count": 20,
   "outputs": [],
   "source": [
    "enrichment_col = \"5percent_CO2_20uM_IPTG\""
   ],
   "metadata": {
    "collapsed": false,
    "ExecuteTime": {
     "end_time": "2023-11-23T01:14:10.511020Z",
     "start_time": "2023-11-23T01:14:10.418028Z"
    }
   },
   "id": "431dce3f88907b95"
  },
  {
   "cell_type": "code",
   "execution_count": 21,
   "outputs": [
    {
     "data": {
      "text/plain": "   Site wildtype AminoAcid  5percent_CO2_20uM_IPTG\n0     3        Q         Y                0.397676\n1     3        Q         C                0.764664\n2     3        Q         D                0.451817\n3     3        Q         E                0.418419\n4     3        Q         F                0.698539",
      "text/html": "<div>\n<style scoped>\n    .dataframe tbody tr th:only-of-type {\n        vertical-align: middle;\n    }\n\n    .dataframe tbody tr th {\n        vertical-align: top;\n    }\n\n    .dataframe thead th {\n        text-align: right;\n    }\n</style>\n<table border=\"1\" class=\"dataframe\">\n  <thead>\n    <tr style=\"text-align: right;\">\n      <th></th>\n      <th>Site</th>\n      <th>wildtype</th>\n      <th>AminoAcid</th>\n      <th>5percent_CO2_20uM_IPTG</th>\n    </tr>\n  </thead>\n  <tbody>\n    <tr>\n      <th>0</th>\n      <td>3</td>\n      <td>Q</td>\n      <td>Y</td>\n      <td>0.397676</td>\n    </tr>\n    <tr>\n      <th>1</th>\n      <td>3</td>\n      <td>Q</td>\n      <td>C</td>\n      <td>0.764664</td>\n    </tr>\n    <tr>\n      <th>2</th>\n      <td>3</td>\n      <td>Q</td>\n      <td>D</td>\n      <td>0.451817</td>\n    </tr>\n    <tr>\n      <th>3</th>\n      <td>3</td>\n      <td>Q</td>\n      <td>E</td>\n      <td>0.418419</td>\n    </tr>\n    <tr>\n      <th>4</th>\n      <td>3</td>\n      <td>Q</td>\n      <td>F</td>\n      <td>0.698539</td>\n    </tr>\n  </tbody>\n</table>\n</div>"
     },
     "execution_count": 21,
     "metadata": {},
     "output_type": "execute_result"
    }
   ],
   "source": [
    "df = pd.read_csv(enrichment_file, index_col=0)\n",
    "df.head()"
   ],
   "metadata": {
    "collapsed": false,
    "ExecuteTime": {
     "end_time": "2023-11-23T01:14:11.614332Z",
     "start_time": "2023-11-23T01:14:11.558583Z"
    }
   },
   "id": "3c92a5d17f1c8178"
  },
  {
   "cell_type": "code",
   "execution_count": 22,
   "outputs": [
    {
     "data": {
      "text/plain": "<Axes: >"
     },
     "execution_count": 22,
     "metadata": {},
     "output_type": "execute_result"
    },
    {
     "data": {
      "text/plain": "<Figure size 640x480 with 1 Axes>",
      "image/png": "[encoded data removed]"
     },
     "metadata": {},
     "output_type": "display_data"
    }
   ],
   "source": [
    "df[enrichment_col] = df[enrichment_col] - 1\n",
    "df[enrichment_col].hist()"
   ],
   "metadata": {
    "collapsed": false,
    "ExecuteTime": {
     "end_time": "2023-11-23T01:14:16.108705Z",
     "start_time": "2023-11-23T01:14:15.635911Z"
    }
   },
   "id": "d709f523928006fa"
  },
  {
   "cell_type": "code",
   "execution_count": 24,
   "outputs": [],
   "source": [
    "df.to_csv(output_path)"
   ],
   "metadata": {
    "collapsed": false,
    "ExecuteTime": {
     "end_time": "2023-11-23T01:14:51.387155Z",
     "start_time": "2023-11-23T01:14:51.304819Z"
    }
   },
   "id": "5c812613fb8757a4"
  },
  {
   "cell_type": "code",
   "execution_count": null,
   "outputs": [],
   "source": [],
   "metadata": {
    "collapsed": false
   },
   "id": "93100dab1c6667d4"
  }
 ],
 "metadata": {
  "kernelspec": {
   "display_name": "Python 3",
   "language": "python",
   "name": "python3"
  },
  "language_info": {
   "codemirror_mode": {
    "name": "ipython",
    "version": 2
   },
   "file_extension": ".py",
   "mimetype": "text/x-python",
   "name": "python",
   "nbconvert_exporter": "python",
   "pygments_lexer": "ipython2",
   "version": "2.7.6"
  }
 },
 "nbformat": 4,
 "nbformat_minor": 5
}
