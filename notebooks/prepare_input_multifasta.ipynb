{
 "cells": [
  {
   "cell_type": "markdown",
   "source": [
    "#  Helper notebook to dms_workflow\n",
    "### 1- Link FASTA sequences and respective IDs from Rubisco Summary Table\n",
    "### 2- Export FASTA files in the appropriate path to be used by dms_workflow"
   ],
   "metadata": {
    "collapsed": false
   },
   "id": "aab94b4801a47216"
  },
  {
   "cell_type": "code",
   "outputs": [],
   "source": [
    "# == NATIVE MODULES\n",
    "# == INSTALLED MODULES\n",
    "import pandas as pd"
   ],
   "metadata": {
    "collapsed": false,
    "ExecuteTime": {
     "end_time": "2024-02-27T00:20:15.399438Z",
     "start_time": "2024-02-27T00:20:13.950863Z"
    }
   },
   "id": "5eaed81b4351c70a",
   "execution_count": 1
  },
  {
   "cell_type": "code",
   "outputs": [],
   "source": [
    "def export_list_to_file(filepath, list_in):\n",
    "\twith open(filepath, 'w') as f:\n",
    "\t\tfor item in list_in:\n",
    "\t\t\tf.write(f\"{item}\\n\")\t\t"
   ],
   "metadata": {
    "collapsed": false,
    "ExecuteTime": {
     "end_time": "2024-02-27T01:00:53.563827Z",
     "start_time": "2024-02-27T01:00:53.552535Z"
    }
   },
   "id": "f66e46093b15539b",
   "execution_count": 39
  },
  {
   "cell_type": "code",
   "outputs": [],
   "source": [
    "# == FILEPATHS ==\n",
    "source_table_path = \"/groups/doudna/projects/daniel_projects/rubiscodms/dump/rubisco_sequence_table.csv\"\n",
    "sequence_col_name = \"Sequence\"\n",
    "id_col_name = \"NCBI_Accession_ID\"\n",
    "output_dir = \"/groups/doudna/projects/daniel_projects/prywes_n/input_data/id_lists\""
   ],
   "metadata": {
    "collapsed": false,
    "ExecuteTime": {
     "end_time": "2024-02-27T00:57:43.451503Z",
     "start_time": "2024-02-27T00:57:43.447226Z"
    }
   },
   "id": "fbf194c825f70bf6",
   "execution_count": 36
  },
  {
   "cell_type": "code",
   "outputs": [],
   "source": [
    "source_table = pd.read_csv(source_table_path)"
   ],
   "metadata": {
    "collapsed": false,
    "ExecuteTime": {
     "end_time": "2024-02-27T00:55:24.745755Z",
     "start_time": "2024-02-27T00:55:22.418156Z"
    }
   },
   "id": "1df6db0b07bf501",
   "execution_count": 31
  },
  {
   "cell_type": "code",
   "outputs": [],
   "source": [
    "all_form_2 = source_table[source_table[\"Form\"] == \"II\"][id_col_name].tolist()\n",
    "form2_form3 = source_table[(source_table[\"Form\"] == \"II\") | (source_table[\"Form\"] == \"II_III\")][id_col_name].tolist()\n",
    "all_bona_fide = source_table[source_table[\"Annotation\"] == \"Bona_Fide\"][id_col_name].tolist()\n",
    "fullset = source_table[id_col_name].tolist()"
   ],
   "metadata": {
    "collapsed": false,
    "ExecuteTime": {
     "end_time": "2024-02-27T01:15:50.896491Z",
     "start_time": "2024-02-27T01:15:50.715932Z"
    }
   },
   "id": "c2124e47052d3c62",
   "execution_count": 42
  },
  {
   "cell_type": "code",
   "outputs": [],
   "source": [
    "export_list_to_file(f\"{output_dir}/all_form_2.txt\", all_form_2)\n",
    "export_list_to_file(f\"{output_dir}/form2_form3.txt\", form2_form3)\n",
    "export_list_to_file(f\"{output_dir}/all_bona_fide.txt\", all_bona_fide)\n",
    "export_list_to_file(f\"{output_dir}/fullset.txt\", fullset)"
   ],
   "metadata": {
    "collapsed": false,
    "ExecuteTime": {
     "end_time": "2024-02-27T01:17:03.004754Z",
     "start_time": "2024-02-27T01:17:02.876929Z"
    }
   },
   "id": "78c56e91af553857",
   "execution_count": 44
  }
 ],
 "metadata": {
  "kernelspec": {
   "display_name": "Python 3",
   "language": "python",
   "name": "python3"
  },
  "language_info": {
   "codemirror_mode": {
    "name": "ipython",
    "version": 2
   },
   "file_extension": ".py",
   "mimetype": "text/x-python",
   "name": "python",
   "nbconvert_exporter": "python",
   "pygments_lexer": "ipython2",
   "version": "2.7.6"
  }
 },
 "nbformat": 4,
 "nbformat_minor": 5
}
