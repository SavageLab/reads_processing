{
 "cells": [
  {
   "cell_type": "markdown",
   "source": [
    "#  Helper notebook to dms_workflow\n",
    "### 1- Link FASTA sequences and respective IDs from Protein Gym sheets\n",
    "### 2- Export FASTA files in the appropriate path to be used by dms_workflow\n"
   ],
   "metadata": {
    "collapsed": false
   },
   "id": "6ffa047a13427ae1"
  },
  {
   "cell_type": "code",
   "execution_count": null,
   "outputs": [],
   "source": [
    "# == NATIVE MODULES\n",
    "import subprocess\n",
    "# == INSTALLED MODULES\n",
    "import pandas as pd\n",
    "from Bio.SeqRecord import SeqRecord\n",
    "from Bio import SeqIO\n",
    "from Bio.Seq import Seq"
   ],
   "metadata": {
    "collapsed": false,
    "is_executing": true
   },
   "id": "35acce48cc3dd533"
  },
  {
   "cell_type": "code",
   "execution_count": 2,
   "outputs": [],
   "source": [
    "def capture_fasta_from_df(df, seq_col_name, id_col_name):\n",
    "\tdf.index = df[id_col_name]\n",
    "\tdf = df.drop(columns=[id_col_name])\n",
    "\tsource_dict_from_df = df[seq_col_name].to_dict()\n",
    "\treturn source_dict_from_df\n",
    "\n",
    "def create_SeqRecord(sequence_dict):\n",
    "\trecords = []\n",
    "\tfor seq_id in sequence_dict:\n",
    "\t\trecords.append(\n",
    "\t\t\tSeqRecord(\n",
    "\t\t\t\tSeq(sequence_dict[seq_id]),\n",
    "\t\t\t\tid=seq_id,\n",
    "\t\t\t\tdescription='',\n",
    "\t\t\t\tname=seq_id\n",
    "\t\t\t)\n",
    "\t\t)\n",
    "\treturn records"
   ],
   "metadata": {
    "collapsed": false,
    "ExecuteTime": {
     "end_time": "2023-12-14T19:47:16.110659Z",
     "start_time": "2023-12-14T19:47:16.092386Z"
    }
   },
   "id": "cf2936df4027d849"
  },
  {
   "cell_type": "code",
   "execution_count": 3,
   "outputs": [],
   "source": [
    "# == FILEPATHS ==\n",
    "source_table_path = \"../protein_gym/proteingym_metadata.csv\"\n",
    "sequence_col_name = \"target_seq\"\n",
    "id_col_name = \"UniProt_ID\"\n",
    "output_dir = \"/groups/doudna/projects/daniel_projects/prywes_n/pgym_input_data/fasta\""
   ],
   "metadata": {
    "collapsed": false,
    "ExecuteTime": {
     "end_time": "2023-12-14T19:47:16.136786Z",
     "start_time": "2023-12-14T19:47:16.102280Z"
    }
   },
   "id": "ee6da5eae5180ce9"
  },
  {
   "cell_type": "code",
   "execution_count": 4,
   "outputs": [],
   "source": [
    "source_table = pd.read_csv(source_table_path)\n",
    "match_dict = capture_fasta_from_df(source_table, sequence_col_name, id_col_name)\n",
    "records = create_SeqRecord(match_dict)"
   ],
   "metadata": {
    "collapsed": false,
    "ExecuteTime": {
     "end_time": "2023-12-14T19:48:19.098736Z",
     "start_time": "2023-12-14T19:48:19.030587Z"
    }
   },
   "id": "b1ad3b3a42d7c45c"
  },
  {
   "cell_type": "code",
   "execution_count": 5,
   "outputs": [
    {
     "name": "stderr",
     "output_type": "stream",
     "text": [
      "mkdir: cannot create directory ‘/groups/doudna/projects/daniel_projects/prywes_n/pgym_input_data/fasta’: File exists\n"
     ]
    },
    {
     "name": "stdout",
     "output_type": "stream",
     "text": [
      "/groups/doudna/projects/daniel_projects/prywes_n/pgym_input_data/fasta/A0A140D2T1_ZIKV.fasta\n",
      "/groups/doudna/projects/daniel_projects/prywes_n/pgym_input_data/fasta/A0A192B1T2_9HIV1.fasta\n",
      "/groups/doudna/projects/daniel_projects/prywes_n/pgym_input_data/fasta/A0A1I9GEU1_NEIME.fasta\n",
      "/groups/doudna/projects/daniel_projects/prywes_n/pgym_input_data/fasta/A0A2Z5U3Z0_9INFA.fasta\n",
      "/groups/doudna/projects/daniel_projects/prywes_n/pgym_input_data/fasta/A4_HUMAN.fasta\n",
      "/groups/doudna/projects/daniel_projects/prywes_n/pgym_input_data/fasta/A4D664_9INFA.fasta\n",
      "/groups/doudna/projects/daniel_projects/prywes_n/pgym_input_data/fasta/A4GRB6_PSEAI.fasta\n",
      "/groups/doudna/projects/daniel_projects/prywes_n/pgym_input_data/fasta/AACC1_PSEAI.fasta\n",
      "/groups/doudna/projects/daniel_projects/prywes_n/pgym_input_data/fasta/ADRB2_HUMAN.fasta\n",
      "/groups/doudna/projects/daniel_projects/prywes_n/pgym_input_data/fasta/AMIE_PSEAE.fasta\n",
      "/groups/doudna/projects/daniel_projects/prywes_n/pgym_input_data/fasta/LGK_LIPST.fasta\n",
      "/groups/doudna/projects/daniel_projects/prywes_n/pgym_input_data/fasta/BLAT_ECOLX.fasta\n",
      "/groups/doudna/projects/daniel_projects/prywes_n/pgym_input_data/fasta/BRCA1_HUMAN.fasta\n",
      "/groups/doudna/projects/daniel_projects/prywes_n/pgym_input_data/fasta/C6KNH7_9INFA.fasta\n",
      "/groups/doudna/projects/daniel_projects/prywes_n/pgym_input_data/fasta/CALM1_HUMAN.fasta\n",
      "/groups/doudna/projects/daniel_projects/prywes_n/pgym_input_data/fasta/CAPSD_AAV2S.fasta\n",
      "/groups/doudna/projects/daniel_projects/prywes_n/pgym_input_data/fasta/CCDB_ECOLI.fasta\n",
      "/groups/doudna/projects/daniel_projects/prywes_n/pgym_input_data/fasta/CP2C9_HUMAN.fasta\n",
      "/groups/doudna/projects/daniel_projects/prywes_n/pgym_input_data/fasta/DLG4_HUMAN.fasta\n",
      "/groups/doudna/projects/daniel_projects/prywes_n/pgym_input_data/fasta/DLG4_RAT.fasta\n",
      "/groups/doudna/projects/daniel_projects/prywes_n/pgym_input_data/fasta/DYR_ECOLI.fasta\n",
      "/groups/doudna/projects/daniel_projects/prywes_n/pgym_input_data/fasta/ENV_HV1B9.fasta\n",
      "/groups/doudna/projects/daniel_projects/prywes_n/pgym_input_data/fasta/ENV_HV1BR.fasta\n",
      "/groups/doudna/projects/daniel_projects/prywes_n/pgym_input_data/fasta/ESTA_BACSU.fasta\n",
      "/groups/doudna/projects/daniel_projects/prywes_n/pgym_input_data/fasta/F7YBW8_MESOW.fasta\n",
      "/groups/doudna/projects/daniel_projects/prywes_n/pgym_input_data/fasta/GAL4_YEAST.fasta\n",
      "/groups/doudna/projects/daniel_projects/prywes_n/pgym_input_data/fasta/GCN4_YEAST.fasta\n",
      "/groups/doudna/projects/daniel_projects/prywes_n/pgym_input_data/fasta/GFP_AEQVI.fasta\n",
      "/groups/doudna/projects/daniel_projects/prywes_n/pgym_input_data/fasta/GRB2_HUMAN.fasta\n",
      "/groups/doudna/projects/daniel_projects/prywes_n/pgym_input_data/fasta/HIS7_YEAST.fasta\n",
      "/groups/doudna/projects/daniel_projects/prywes_n/pgym_input_data/fasta/HSP82_YEAST.fasta\n",
      "/groups/doudna/projects/daniel_projects/prywes_n/pgym_input_data/fasta/I6TAH8_I68A0.fasta\n",
      "/groups/doudna/projects/daniel_projects/prywes_n/pgym_input_data/fasta/IF1_ECOLI.fasta\n",
      "/groups/doudna/projects/daniel_projects/prywes_n/pgym_input_data/fasta/KCNH2_HUMAN.fasta\n",
      "/groups/doudna/projects/daniel_projects/prywes_n/pgym_input_data/fasta/KKA2_KLEPN.fasta\n",
      "/groups/doudna/projects/daniel_projects/prywes_n/pgym_input_data/fasta/MK01_HUMAN.fasta\n",
      "/groups/doudna/projects/daniel_projects/prywes_n/pgym_input_data/fasta/MSH2_HUMAN.fasta\n",
      "/groups/doudna/projects/daniel_projects/prywes_n/pgym_input_data/fasta/MTH3_HAEAE.fasta\n",
      "/groups/doudna/projects/daniel_projects/prywes_n/pgym_input_data/fasta/NCAP_I34A1.fasta\n",
      "/groups/doudna/projects/daniel_projects/prywes_n/pgym_input_data/fasta/NRAM_I33A0.fasta\n",
      "/groups/doudna/projects/daniel_projects/prywes_n/pgym_input_data/fasta/NUD15_HUMAN.fasta\n",
      "/groups/doudna/projects/daniel_projects/prywes_n/pgym_input_data/fasta/P53_HUMAN.fasta\n",
      "/groups/doudna/projects/daniel_projects/prywes_n/pgym_input_data/fasta/P84126_THETH.fasta\n",
      "/groups/doudna/projects/daniel_projects/prywes_n/pgym_input_data/fasta/PA_I34A1.fasta\n",
      "/groups/doudna/projects/daniel_projects/prywes_n/pgym_input_data/fasta/PABP_YEAST.fasta\n",
      "/groups/doudna/projects/daniel_projects/prywes_n/pgym_input_data/fasta/POLG_CXB3N.fasta\n",
      "/groups/doudna/projects/daniel_projects/prywes_n/pgym_input_data/fasta/POLG_HCVJF.fasta\n",
      "/groups/doudna/projects/daniel_projects/prywes_n/pgym_input_data/fasta/PTEN_HUMAN.fasta\n",
      "/groups/doudna/projects/daniel_projects/prywes_n/pgym_input_data/fasta/Q2N0S5_9HIV1.fasta\n",
      "/groups/doudna/projects/daniel_projects/prywes_n/pgym_input_data/fasta/Q59976_STRSQ.fasta\n",
      "/groups/doudna/projects/daniel_projects/prywes_n/pgym_input_data/fasta/R1AB_SARS2.fasta\n",
      "/groups/doudna/projects/daniel_projects/prywes_n/pgym_input_data/fasta/RASH_HUMAN.fasta\n",
      "/groups/doudna/projects/daniel_projects/prywes_n/pgym_input_data/fasta/REV_HV1H2.fasta\n",
      "/groups/doudna/projects/daniel_projects/prywes_n/pgym_input_data/fasta/RL40A_YEAST.fasta\n",
      "/groups/doudna/projects/daniel_projects/prywes_n/pgym_input_data/fasta/SC6A4_HUMAN.fasta\n",
      "/groups/doudna/projects/daniel_projects/prywes_n/pgym_input_data/fasta/SCN5A_HUMAN.fasta\n",
      "/groups/doudna/projects/daniel_projects/prywes_n/pgym_input_data/fasta/SPG1_STRSG.fasta\n",
      "/groups/doudna/projects/daniel_projects/prywes_n/pgym_input_data/fasta/SPIKE_SARS2.fasta\n",
      "/groups/doudna/projects/daniel_projects/prywes_n/pgym_input_data/fasta/SRC_HUMAN.fasta\n",
      "/groups/doudna/projects/daniel_projects/prywes_n/pgym_input_data/fasta/SUMO1_HUMAN.fasta\n",
      "/groups/doudna/projects/daniel_projects/prywes_n/pgym_input_data/fasta/SYUA_HUMAN.fasta\n",
      "/groups/doudna/projects/daniel_projects/prywes_n/pgym_input_data/fasta/TADBP_HUMAN.fasta\n",
      "/groups/doudna/projects/daniel_projects/prywes_n/pgym_input_data/fasta/TAT_HV1BR.fasta\n",
      "/groups/doudna/projects/daniel_projects/prywes_n/pgym_input_data/fasta/TPK1_HUMAN.fasta\n",
      "/groups/doudna/projects/daniel_projects/prywes_n/pgym_input_data/fasta/TPMT_HUMAN.fasta\n",
      "/groups/doudna/projects/daniel_projects/prywes_n/pgym_input_data/fasta/TPOR_HUMAN.fasta\n",
      "/groups/doudna/projects/daniel_projects/prywes_n/pgym_input_data/fasta/TRPC_SACS2.fasta\n",
      "/groups/doudna/projects/daniel_projects/prywes_n/pgym_input_data/fasta/TRPC_THEMA.fasta\n",
      "/groups/doudna/projects/daniel_projects/prywes_n/pgym_input_data/fasta/UBC9_HUMAN.fasta\n",
      "/groups/doudna/projects/daniel_projects/prywes_n/pgym_input_data/fasta/UBE4B_MOUSE.fasta\n",
      "/groups/doudna/projects/daniel_projects/prywes_n/pgym_input_data/fasta/VKOR1_HUMAN.fasta\n",
      "/groups/doudna/projects/daniel_projects/prywes_n/pgym_input_data/fasta/YAP1_HUMAN.fasta\n"
     ]
    }
   ],
   "source": [
    "cmd = f\"mkdir {output_dir}\"\n",
    "subprocess.run(cmd, shell=True)\n",
    "# Go through each record gathered from the source table\n",
    "for record in records:\n",
    "\tfilepath = f\"{output_dir}/{record.id}.fasta\"\n",
    "\t# Write the fasta output to user-provided path\n",
    "\tSeqIO.write(record, filepath, \"fasta\")\n",
    "\tprint(filepath)"
   ],
   "metadata": {
    "collapsed": false,
    "ExecuteTime": {
     "end_time": "2023-12-14T19:48:32.300256Z",
     "start_time": "2023-12-14T19:48:31.992666Z"
    }
   },
   "id": "c4f82195771ef1e7"
  },
  {
   "cell_type": "code",
   "execution_count": 22,
   "outputs": [
    {
     "data": {
      "text/plain": "                                                  DMS_id   \nUniProt_ID                                                 \nA0A140D2T1_ZIKV   A0A140D2T1_ZIKV_Sourisseau_growth_2019  \\\nA0A192B1T2_9HIV1            A0A192B1T2_9HIV1_Haddox_2018   \nA0A1I9GEU1_NEIME         A0A1I9GEU1_NEIME_Kennouche_2019   \nA0A2Z5U3Z0_9INFA              A0A2Z5U3Z0_9INFA_Doud_2016   \nA0A2Z5U3Z0_9INFA                A0A2Z5U3Z0_9INFA_Wu_2014   \n\n                                                DMS_filename   \nUniProt_ID                                                     \nA0A140D2T1_ZIKV   A0A140D2T1_ZIKV_Sourisseau_growth_2019.csv  \\\nA0A192B1T2_9HIV1            A0A192B1T2_9HIV1_Haddox_2018.csv   \nA0A1I9GEU1_NEIME         A0A1I9GEU1_NEIME_Kennouche_2019.csv   \nA0A2Z5U3Z0_9INFA              A0A2Z5U3Z0_9INFA_Doud_2016.csv   \nA0A2Z5U3Z0_9INFA                A0A2Z5U3Z0_9INFA_Wu_2014.csv   \n\n                        UniProt_ID       taxon   \nUniProt_ID                                       \nA0A140D2T1_ZIKV    A0A140D2T1_ZIKV       Virus  \\\nA0A192B1T2_9HIV1  A0A192B1T2_9HIV1       Virus   \nA0A1I9GEU1_NEIME  A0A1I9GEU1_NEIME  Prokaryote   \nA0A2Z5U3Z0_9INFA  A0A2Z5U3Z0_9INFA       Virus   \nA0A2Z5U3Z0_9INFA  A0A2Z5U3Z0_9INFA       Virus   \n\n                                                         target_seq  seq_len   \nUniProt_ID                                                                     \nA0A140D2T1_ZIKV   MKNPKKKSGGFRIVNMLKRGVARVNPLGGLKRLPAGLLLGHGPIRM...     3423  \\\nA0A192B1T2_9HIV1  MRVKGIQMNSQHLLRWGIMILGMIMICSVAGNLWVTVYYGVPVWKD...      852   \nA0A1I9GEU1_NEIME  FTLIELMIVIAIVGILAAVALPAYQDYTARAQVSEAILLAEGQKSA...      161   \nA0A2Z5U3Z0_9INFA  MKAKLLVLLYAFVATDADTICIGYHANNSTDTVDTILEKNVAVTHS...      565   \nA0A2Z5U3Z0_9INFA  MKAKLLVLLYAFVATDADTICIGYHANNSTDTVDTILEKNVAVTHS...      565   \n\n                  includes_multiple_mutants  DMS_total_number_mutants   \nUniProt_ID                                                              \nA0A140D2T1_ZIKV                       False                      9576  \\\nA0A192B1T2_9HIV1                      False                     12577   \nA0A1I9GEU1_NEIME                      False                       922   \nA0A2Z5U3Z0_9INFA                      False                     10715   \nA0A2Z5U3Z0_9INFA                      False                      2350   \n\n                  DMS_number_single_mutants  DMS_number_multiple_mutants  ...   \nUniProt_ID                                                                ...   \nA0A140D2T1_ZIKV                        9576                            0  ...  \\\nA0A192B1T2_9HIV1                      12577                            0  ...   \nA0A1I9GEU1_NEIME                        922                            0  ...   \nA0A2Z5U3Z0_9INFA                      10715                            0  ...   \nA0A2Z5U3Z0_9INFA                       2350                            0  ...   \n\n                  MSA_N_eff MSA_Neff_L MSA_Neff_L_category   \nUniProt_ID                                                   \nA0A140D2T1_ZIKV      1357.9   2.732193              medium  \\\nA0A192B1T2_9HIV1    36319.9  43.237976              medium   \nA0A1I9GEU1_NEIME     2183.6  15.823188              medium   \nA0A2Z5U3Z0_9INFA     9809.4  17.933090              medium   \nA0A2Z5U3Z0_9INFA     9809.4  17.933090              medium   \n\n                 MSA_num_significant  MSA_num_significant_L   \nUniProt_ID                                                    \nA0A140D2T1_ZIKV                  329               0.661972  \\\nA0A192B1T2_9HIV1                2382               2.835714   \nA0A1I9GEU1_NEIME                  72               0.521739   \nA0A2Z5U3Z0_9INFA                 925               1.691042   \nA0A2Z5U3Z0_9INFA                 925               1.691042   \n\n                                            raw_DMS_filename   \nUniProt_ID                                                     \nA0A140D2T1_ZIKV   A0A140D2T1_ZIKV_Sourisseau_growth_2019.csv  \\\nA0A192B1T2_9HIV1            A0A192B1T2_9HIV1_Haddox_2018.csv   \nA0A1I9GEU1_NEIME         A0A1I9GEU1_NEIME_Kennouche_2019.csv   \nA0A2Z5U3Z0_9INFA              A0A2Z5U3Z0_9INFA_Doud_2016.csv   \nA0A2Z5U3Z0_9INFA                A0A2Z5U3Z0_9INFA_Wu_2014.csv   \n\n                 raw_DMS_phenotype_name raw_DMS_directionality   \nUniProt_ID                                                       \nA0A140D2T1_ZIKV                  effect                      1  \\\nA0A192B1T2_9HIV1                fitness                      1   \nA0A1I9GEU1_NEIME   piliation_log2_ratio                      1   \nA0A2Z5U3Z0_9INFA       transformed_pref                      1   \nA0A2Z5U3Z0_9INFA               RF Index                      1   \n\n                 raw_DMS_mutant_column                 weight_file_name  \nUniProt_ID                                                               \nA0A140D2T1_ZIKV                 mutant   A0A140D2T1_ZIKV_theta_0.01.npy  \nA0A192B1T2_9HIV1                mutant  A0A192B1T2_9HIV1_theta_0.01.npy  \nA0A1I9GEU1_NEIME               mutants   A0A1I9GEU1_NEIME_theta_0.2.npy  \nA0A2Z5U3Z0_9INFA                mutant  A0A2Z5U3Z0_9INFA_theta_0.01.npy  \nA0A2Z5U3Z0_9INFA                mutant  A0A2Z5U3Z0_9INFA_theta_0.01.npy  \n\n[5 rows x 40 columns]",
      "text/html": "<div>\n<style scoped>\n    .dataframe tbody tr th:only-of-type {\n        vertical-align: middle;\n    }\n\n    .dataframe tbody tr th {\n        vertical-align: top;\n    }\n\n    .dataframe thead th {\n        text-align: right;\n    }\n</style>\n<table border=\"1\" class=\"dataframe\">\n  <thead>\n    <tr style=\"text-align: right;\">\n      <th></th>\n      <th>DMS_id</th>\n      <th>DMS_filename</th>\n      <th>UniProt_ID</th>\n      <th>taxon</th>\n      <th>target_seq</th>\n      <th>seq_len</th>\n      <th>includes_multiple_mutants</th>\n      <th>DMS_total_number_mutants</th>\n      <th>DMS_number_single_mutants</th>\n      <th>DMS_number_multiple_mutants</th>\n      <th>...</th>\n      <th>MSA_N_eff</th>\n      <th>MSA_Neff_L</th>\n      <th>MSA_Neff_L_category</th>\n      <th>MSA_num_significant</th>\n      <th>MSA_num_significant_L</th>\n      <th>raw_DMS_filename</th>\n      <th>raw_DMS_phenotype_name</th>\n      <th>raw_DMS_directionality</th>\n      <th>raw_DMS_mutant_column</th>\n      <th>weight_file_name</th>\n    </tr>\n    <tr>\n      <th>UniProt_ID</th>\n      <th></th>\n      <th></th>\n      <th></th>\n      <th></th>\n      <th></th>\n      <th></th>\n      <th></th>\n      <th></th>\n      <th></th>\n      <th></th>\n      <th></th>\n      <th></th>\n      <th></th>\n      <th></th>\n      <th></th>\n      <th></th>\n      <th></th>\n      <th></th>\n      <th></th>\n      <th></th>\n      <th></th>\n    </tr>\n  </thead>\n  <tbody>\n    <tr>\n      <th>A0A140D2T1_ZIKV</th>\n      <td>A0A140D2T1_ZIKV_Sourisseau_growth_2019</td>\n      <td>A0A140D2T1_ZIKV_Sourisseau_growth_2019.csv</td>\n      <td>A0A140D2T1_ZIKV</td>\n      <td>Virus</td>\n      <td>MKNPKKKSGGFRIVNMLKRGVARVNPLGGLKRLPAGLLLGHGPIRM...</td>\n      <td>3423</td>\n      <td>False</td>\n      <td>9576</td>\n      <td>9576</td>\n      <td>0</td>\n      <td>...</td>\n      <td>1357.9</td>\n      <td>2.732193</td>\n      <td>medium</td>\n      <td>329</td>\n      <td>0.661972</td>\n      <td>A0A140D2T1_ZIKV_Sourisseau_growth_2019.csv</td>\n      <td>effect</td>\n      <td>1</td>\n      <td>mutant</td>\n      <td>A0A140D2T1_ZIKV_theta_0.01.npy</td>\n    </tr>\n    <tr>\n      <th>A0A192B1T2_9HIV1</th>\n      <td>A0A192B1T2_9HIV1_Haddox_2018</td>\n      <td>A0A192B1T2_9HIV1_Haddox_2018.csv</td>\n      <td>A0A192B1T2_9HIV1</td>\n      <td>Virus</td>\n      <td>MRVKGIQMNSQHLLRWGIMILGMIMICSVAGNLWVTVYYGVPVWKD...</td>\n      <td>852</td>\n      <td>False</td>\n      <td>12577</td>\n      <td>12577</td>\n      <td>0</td>\n      <td>...</td>\n      <td>36319.9</td>\n      <td>43.237976</td>\n      <td>medium</td>\n      <td>2382</td>\n      <td>2.835714</td>\n      <td>A0A192B1T2_9HIV1_Haddox_2018.csv</td>\n      <td>fitness</td>\n      <td>1</td>\n      <td>mutant</td>\n      <td>A0A192B1T2_9HIV1_theta_0.01.npy</td>\n    </tr>\n    <tr>\n      <th>A0A1I9GEU1_NEIME</th>\n      <td>A0A1I9GEU1_NEIME_Kennouche_2019</td>\n      <td>A0A1I9GEU1_NEIME_Kennouche_2019.csv</td>\n      <td>A0A1I9GEU1_NEIME</td>\n      <td>Prokaryote</td>\n      <td>FTLIELMIVIAIVGILAAVALPAYQDYTARAQVSEAILLAEGQKSA...</td>\n      <td>161</td>\n      <td>False</td>\n      <td>922</td>\n      <td>922</td>\n      <td>0</td>\n      <td>...</td>\n      <td>2183.6</td>\n      <td>15.823188</td>\n      <td>medium</td>\n      <td>72</td>\n      <td>0.521739</td>\n      <td>A0A1I9GEU1_NEIME_Kennouche_2019.csv</td>\n      <td>piliation_log2_ratio</td>\n      <td>1</td>\n      <td>mutants</td>\n      <td>A0A1I9GEU1_NEIME_theta_0.2.npy</td>\n    </tr>\n    <tr>\n      <th>A0A2Z5U3Z0_9INFA</th>\n      <td>A0A2Z5U3Z0_9INFA_Doud_2016</td>\n      <td>A0A2Z5U3Z0_9INFA_Doud_2016.csv</td>\n      <td>A0A2Z5U3Z0_9INFA</td>\n      <td>Virus</td>\n      <td>MKAKLLVLLYAFVATDADTICIGYHANNSTDTVDTILEKNVAVTHS...</td>\n      <td>565</td>\n      <td>False</td>\n      <td>10715</td>\n      <td>10715</td>\n      <td>0</td>\n      <td>...</td>\n      <td>9809.4</td>\n      <td>17.933090</td>\n      <td>medium</td>\n      <td>925</td>\n      <td>1.691042</td>\n      <td>A0A2Z5U3Z0_9INFA_Doud_2016.csv</td>\n      <td>transformed_pref</td>\n      <td>1</td>\n      <td>mutant</td>\n      <td>A0A2Z5U3Z0_9INFA_theta_0.01.npy</td>\n    </tr>\n    <tr>\n      <th>A0A2Z5U3Z0_9INFA</th>\n      <td>A0A2Z5U3Z0_9INFA_Wu_2014</td>\n      <td>A0A2Z5U3Z0_9INFA_Wu_2014.csv</td>\n      <td>A0A2Z5U3Z0_9INFA</td>\n      <td>Virus</td>\n      <td>MKAKLLVLLYAFVATDADTICIGYHANNSTDTVDTILEKNVAVTHS...</td>\n      <td>565</td>\n      <td>False</td>\n      <td>2350</td>\n      <td>2350</td>\n      <td>0</td>\n      <td>...</td>\n      <td>9809.4</td>\n      <td>17.933090</td>\n      <td>medium</td>\n      <td>925</td>\n      <td>1.691042</td>\n      <td>A0A2Z5U3Z0_9INFA_Wu_2014.csv</td>\n      <td>RF Index</td>\n      <td>1</td>\n      <td>mutant</td>\n      <td>A0A2Z5U3Z0_9INFA_theta_0.01.npy</td>\n    </tr>\n  </tbody>\n</table>\n<p>5 rows × 40 columns</p>\n</div>"
     },
     "execution_count": 22,
     "metadata": {},
     "output_type": "execute_result"
    }
   ],
   "source": [
    "source_table.head()"
   ],
   "metadata": {
    "collapsed": false,
    "ExecuteTime": {
     "end_time": "2023-12-02T07:00:40.309365Z",
     "start_time": "2023-12-02T07:00:40.266540Z"
    }
   },
   "id": "b5993c2ccf729fe8"
  },
  {
   "cell_type": "code",
   "execution_count": null,
   "outputs": [],
   "source": [],
   "metadata": {
    "collapsed": false
   },
   "id": "6962bcd6ff77e83e"
  }
 ],
 "metadata": {
  "kernelspec": {
   "display_name": "Python 3",
   "language": "python",
   "name": "python3"
  },
  "language_info": {
   "codemirror_mode": {
    "name": "ipython",
    "version": 2
   },
   "file_extension": ".py",
   "mimetype": "text/x-python",
   "name": "python",
   "nbconvert_exporter": "python",
   "pygments_lexer": "ipython2",
   "version": "2.7.6"
  }
 },
 "nbformat": 4,
 "nbformat_minor": 5
}
