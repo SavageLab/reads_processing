{
 "cells": [
  {
   "cell_type": "markdown",
   "source": [
    "#  Helper notebook to dms_workflow\n",
    "### 1- Narrow down the protein ID list from source spreadsheet\n",
    "### 2- Only the identifiers labeled as 'Bona_Fide' will be selected\n",
    "### 3- The IDs gathered here are saved in a plain text file at the data analysis folder\n",
    "### 4- Then it's supplied to py/ptn2locus.py (See `sh/sbatch_ptn2locus.sh`)"
   ],
   "metadata": {
    "collapsed": false
   },
   "id": "814d7d5985cd3a70"
  },
  {
   "cell_type": "code",
   "execution_count": 1,
   "outputs": [],
   "source": [
    "# == INSTALLED MODULES\n",
    "import pandas as pd"
   ],
   "metadata": {
    "collapsed": false,
    "ExecuteTime": {
     "end_time": "2023-11-30T01:04:24.727045Z",
     "start_time": "2023-11-30T01:04:23.565802Z"
    }
   },
   "id": "initial_id"
  },
  {
   "cell_type": "code",
   "execution_count": 2,
   "outputs": [],
   "source": [
    "# == FILEPATHS ==\n",
    "source_table = \"/groups/doudna/team_resources/toolbox/phylo_dms_workflow/scratch/Supplemental_File_3_Rubisco_sequence_table_updated.csv\"\n",
    "output_list = \"/groups/doudna/projects/daniel_projects/prywes_n/input_data/rubisco_bonafide.csv\""
   ],
   "metadata": {
    "collapsed": false,
    "ExecuteTime": {
     "end_time": "2023-11-30T01:04:24.767178Z",
     "start_time": "2023-11-30T01:04:24.766244Z"
    }
   },
   "id": "2a473f5b7cde6af9"
  },
  {
   "cell_type": "code",
   "execution_count": 3,
   "outputs": [
    {
     "data": {
      "text/plain": "  NCBI_Accession_ID Annotation Form  subForm                      Species   \n0    WP_108496988.1  Bona_Fide    I        C       Acidovorax sp. HMWF018  \\\n1    WP_164607300.1         IV   IV  Unknown  Rhodopseudomonas sp. BR0M22   \n2    WP_146910979.1         IV   IV     YkrW       Bacillus licheniformis   \n3    WP_121541263.1  Bona_Fide   II       II      Mariprofundus sp. EBB-1   \n4    WP_067636326.1  Bona_Fide    I        E          Actinomadura latina   \n\n   NCBI_Taxonomic_ID  Sequence_Length_Amino_Acids     tax00           tax01   \n0            2056855                          379  Bacteria  Proteobacteria  \\\n1            2269369                          432  Bacteria  Proteobacteria   \n2               1402                          405  Bacteria      Firmicutes   \n3            2650971                          472  Bacteria  Proteobacteria   \n4             163603                          477  Bacteria  Actinobacteria   \n\n                 tax02  ... tax16 tax17 tax18 tax19 tax20       Cluster65   \n0   Betaproteobacteria  ...   NaN   NaN   NaN   NaN   NaN      EWS56914.1  \\\n1  Alphaproteobacteria  ...   NaN   NaN   NaN   NaN   NaN  WP_200328212.1   \n2              Bacilli  ...   NaN   NaN   NaN   NaN   NaN      QLK07883.1   \n3   Zetaproteobacteria  ...   NaN   NaN   NaN   NaN   NaN  WP_121541263.1   \n4  Streptosporangiales  ...   NaN   NaN   NaN   NaN   NaN      PZR66540.1   \n\n    Cluster85   Cluster70       Cluster90   \n0  ABM95736.1         NaN  WP_201492854.1  \\\n1         NaN      2QYG_A          2QYG_A   \n2         NaN  CVM73332.1      TWK33311.1   \n3         NaN         NaN  WP_121541263.1   \n4  EMF57107.1         NaN  WP_151563615.1   \n\n                                            Sequence  \n0  LILFEEGSIANMTASLIGNVFSFKPLKAARLEDIRIPVAYVKTFKG...  \n1  MTPDDIAGFYAKRADLDLDNYIELDFDFECAGDPREAAAHLCSEQS...  \n2  MSELLATYILADPGCDAEKRAEQIAIGLTVGSWTDLPLLKQEQLKK...  \n3  MDQSNRYADLSLNEADLIAGGKHLLVAYKLIPAEGYGFLEVAAHIA...  \n4  MSSGRWSAGVIPYAEMGYWRPDYEPKDSDILAAFRITPQPGVPPEE...  \n\n[5 rows x 33 columns]",
      "text/html": "<div>\n<style scoped>\n    .dataframe tbody tr th:only-of-type {\n        vertical-align: middle;\n    }\n\n    .dataframe tbody tr th {\n        vertical-align: top;\n    }\n\n    .dataframe thead th {\n        text-align: right;\n    }\n</style>\n<table border=\"1\" class=\"dataframe\">\n  <thead>\n    <tr style=\"text-align: right;\">\n      <th></th>\n      <th>NCBI_Accession_ID</th>\n      <th>Annotation</th>\n      <th>Form</th>\n      <th>subForm</th>\n      <th>Species</th>\n      <th>NCBI_Taxonomic_ID</th>\n      <th>Sequence_Length_Amino_Acids</th>\n      <th>tax00</th>\n      <th>tax01</th>\n      <th>tax02</th>\n      <th>...</th>\n      <th>tax16</th>\n      <th>tax17</th>\n      <th>tax18</th>\n      <th>tax19</th>\n      <th>tax20</th>\n      <th>Cluster65</th>\n      <th>Cluster85</th>\n      <th>Cluster70</th>\n      <th>Cluster90</th>\n      <th>Sequence</th>\n    </tr>\n  </thead>\n  <tbody>\n    <tr>\n      <th>0</th>\n      <td>WP_108496988.1</td>\n      <td>Bona_Fide</td>\n      <td>I</td>\n      <td>C</td>\n      <td>Acidovorax sp. HMWF018</td>\n      <td>2056855</td>\n      <td>379</td>\n      <td>Bacteria</td>\n      <td>Proteobacteria</td>\n      <td>Betaproteobacteria</td>\n      <td>...</td>\n      <td>NaN</td>\n      <td>NaN</td>\n      <td>NaN</td>\n      <td>NaN</td>\n      <td>NaN</td>\n      <td>EWS56914.1</td>\n      <td>ABM95736.1</td>\n      <td>NaN</td>\n      <td>WP_201492854.1</td>\n      <td>LILFEEGSIANMTASLIGNVFSFKPLKAARLEDIRIPVAYVKTFKG...</td>\n    </tr>\n    <tr>\n      <th>1</th>\n      <td>WP_164607300.1</td>\n      <td>IV</td>\n      <td>IV</td>\n      <td>Unknown</td>\n      <td>Rhodopseudomonas sp. BR0M22</td>\n      <td>2269369</td>\n      <td>432</td>\n      <td>Bacteria</td>\n      <td>Proteobacteria</td>\n      <td>Alphaproteobacteria</td>\n      <td>...</td>\n      <td>NaN</td>\n      <td>NaN</td>\n      <td>NaN</td>\n      <td>NaN</td>\n      <td>NaN</td>\n      <td>WP_200328212.1</td>\n      <td>NaN</td>\n      <td>2QYG_A</td>\n      <td>2QYG_A</td>\n      <td>MTPDDIAGFYAKRADLDLDNYIELDFDFECAGDPREAAAHLCSEQS...</td>\n    </tr>\n    <tr>\n      <th>2</th>\n      <td>WP_146910979.1</td>\n      <td>IV</td>\n      <td>IV</td>\n      <td>YkrW</td>\n      <td>Bacillus licheniformis</td>\n      <td>1402</td>\n      <td>405</td>\n      <td>Bacteria</td>\n      <td>Firmicutes</td>\n      <td>Bacilli</td>\n      <td>...</td>\n      <td>NaN</td>\n      <td>NaN</td>\n      <td>NaN</td>\n      <td>NaN</td>\n      <td>NaN</td>\n      <td>QLK07883.1</td>\n      <td>NaN</td>\n      <td>CVM73332.1</td>\n      <td>TWK33311.1</td>\n      <td>MSELLATYILADPGCDAEKRAEQIAIGLTVGSWTDLPLLKQEQLKK...</td>\n    </tr>\n    <tr>\n      <th>3</th>\n      <td>WP_121541263.1</td>\n      <td>Bona_Fide</td>\n      <td>II</td>\n      <td>II</td>\n      <td>Mariprofundus sp. EBB-1</td>\n      <td>2650971</td>\n      <td>472</td>\n      <td>Bacteria</td>\n      <td>Proteobacteria</td>\n      <td>Zetaproteobacteria</td>\n      <td>...</td>\n      <td>NaN</td>\n      <td>NaN</td>\n      <td>NaN</td>\n      <td>NaN</td>\n      <td>NaN</td>\n      <td>WP_121541263.1</td>\n      <td>NaN</td>\n      <td>NaN</td>\n      <td>WP_121541263.1</td>\n      <td>MDQSNRYADLSLNEADLIAGGKHLLVAYKLIPAEGYGFLEVAAHIA...</td>\n    </tr>\n    <tr>\n      <th>4</th>\n      <td>WP_067636326.1</td>\n      <td>Bona_Fide</td>\n      <td>I</td>\n      <td>E</td>\n      <td>Actinomadura latina</td>\n      <td>163603</td>\n      <td>477</td>\n      <td>Bacteria</td>\n      <td>Actinobacteria</td>\n      <td>Streptosporangiales</td>\n      <td>...</td>\n      <td>NaN</td>\n      <td>NaN</td>\n      <td>NaN</td>\n      <td>NaN</td>\n      <td>NaN</td>\n      <td>PZR66540.1</td>\n      <td>EMF57107.1</td>\n      <td>NaN</td>\n      <td>WP_151563615.1</td>\n      <td>MSSGRWSAGVIPYAEMGYWRPDYEPKDSDILAAFRITPQPGVPPEE...</td>\n    </tr>\n  </tbody>\n</table>\n<p>5 rows × 33 columns</p>\n</div>"
     },
     "execution_count": 3,
     "metadata": {},
     "output_type": "execute_result"
    }
   ],
   "source": [
    "# == SLICE SOURCE TABLE\n",
    "df_rubs = pd.read_csv(source_table, index_col=0)\n",
    "df_rubs.head()"
   ],
   "metadata": {
    "collapsed": false,
    "ExecuteTime": {
     "end_time": "2023-11-30T01:04:28.228006Z",
     "start_time": "2023-11-30T01:04:24.766646Z"
    }
   },
   "id": "59a143eff074ca5b"
  },
  {
   "cell_type": "code",
   "execution_count": 4,
   "outputs": [
    {
     "data": {
      "text/plain": "  NCBI_Accession_ID Annotation Form subForm                      Species   \n0    WP_108496988.1  Bona_Fide    I       C       Acidovorax sp. HMWF018  \\\n3    WP_121541263.1  Bona_Fide   II      II      Mariprofundus sp. EBB-1   \n4    WP_067636326.1  Bona_Fide    I       E          Actinomadura latina   \n7    WP_098410975.1  Bona_Fide    I       A         Thioclava sp. ES.031   \n8    WP_212310925.1  Bona_Fide    I       C  unclassified Bradyrhizobium   \n\n   NCBI_Taxonomic_ID  Sequence_Length_Amino_Acids     tax00           tax01   \n0            2056855                          379  Bacteria  Proteobacteria  \\\n3            2650971                          472  Bacteria  Proteobacteria   \n4             163603                          477  Bacteria  Actinobacteria   \n7            1798203                          477  Bacteria  Proteobacteria   \n8            2631580                          487  Bacteria  Proteobacteria   \n\n                 tax02  ... tax16 tax17 tax18 tax19 tax20       Cluster65   \n0   Betaproteobacteria  ...   NaN   NaN   NaN   NaN   NaN      EWS56914.1  \\\n3   Zetaproteobacteria  ...   NaN   NaN   NaN   NaN   NaN  WP_121541263.1   \n4  Streptosporangiales  ...   NaN   NaN   NaN   NaN   NaN      PZR66540.1   \n7  Alphaproteobacteria  ...   NaN   NaN   NaN   NaN   NaN    MBO9368004.1   \n8  Alphaproteobacteria  ...   NaN   NaN   NaN   NaN   NaN      EWS56914.1   \n\n      Cluster85 Cluster70       Cluster90   \n0    ABM95736.1       NaN  WP_201492854.1  \\\n3           NaN       NaN  WP_121541263.1   \n4    EMF57107.1       NaN  WP_151563615.1   \n7  MCF6320386.1       NaN  WP_098410975.1   \n8  MBE1391961.1       NaN    MBE1391961.1   \n\n                                            Sequence  \n0  LILFEEGSIANMTASLIGNVFSFKPLKAARLEDIRIPVAYVKTFKG...  \n3  MDQSNRYADLSLNEADLIAGGKHLLVAYKLIPAEGYGFLEVAAHIA...  \n4  MSSGRWSAGVIPYAEMGYWRPDYEPKDSDILAAFRITPQPGVPPEE...  \n7  MNEQSNPGKYSAGVKEYRETYWEPNYTPKESDVLAVFKITPQAGVP...  \n8  MNIQPSITVRGKDRYKSGVMEYKRMGYWEPNYEPKDTDVIALFRVT...  \n\n[5 rows x 33 columns]",
      "text/html": "<div>\n<style scoped>\n    .dataframe tbody tr th:only-of-type {\n        vertical-align: middle;\n    }\n\n    .dataframe tbody tr th {\n        vertical-align: top;\n    }\n\n    .dataframe thead th {\n        text-align: right;\n    }\n</style>\n<table border=\"1\" class=\"dataframe\">\n  <thead>\n    <tr style=\"text-align: right;\">\n      <th></th>\n      <th>NCBI_Accession_ID</th>\n      <th>Annotation</th>\n      <th>Form</th>\n      <th>subForm</th>\n      <th>Species</th>\n      <th>NCBI_Taxonomic_ID</th>\n      <th>Sequence_Length_Amino_Acids</th>\n      <th>tax00</th>\n      <th>tax01</th>\n      <th>tax02</th>\n      <th>...</th>\n      <th>tax16</th>\n      <th>tax17</th>\n      <th>tax18</th>\n      <th>tax19</th>\n      <th>tax20</th>\n      <th>Cluster65</th>\n      <th>Cluster85</th>\n      <th>Cluster70</th>\n      <th>Cluster90</th>\n      <th>Sequence</th>\n    </tr>\n  </thead>\n  <tbody>\n    <tr>\n      <th>0</th>\n      <td>WP_108496988.1</td>\n      <td>Bona_Fide</td>\n      <td>I</td>\n      <td>C</td>\n      <td>Acidovorax sp. HMWF018</td>\n      <td>2056855</td>\n      <td>379</td>\n      <td>Bacteria</td>\n      <td>Proteobacteria</td>\n      <td>Betaproteobacteria</td>\n      <td>...</td>\n      <td>NaN</td>\n      <td>NaN</td>\n      <td>NaN</td>\n      <td>NaN</td>\n      <td>NaN</td>\n      <td>EWS56914.1</td>\n      <td>ABM95736.1</td>\n      <td>NaN</td>\n      <td>WP_201492854.1</td>\n      <td>LILFEEGSIANMTASLIGNVFSFKPLKAARLEDIRIPVAYVKTFKG...</td>\n    </tr>\n    <tr>\n      <th>3</th>\n      <td>WP_121541263.1</td>\n      <td>Bona_Fide</td>\n      <td>II</td>\n      <td>II</td>\n      <td>Mariprofundus sp. EBB-1</td>\n      <td>2650971</td>\n      <td>472</td>\n      <td>Bacteria</td>\n      <td>Proteobacteria</td>\n      <td>Zetaproteobacteria</td>\n      <td>...</td>\n      <td>NaN</td>\n      <td>NaN</td>\n      <td>NaN</td>\n      <td>NaN</td>\n      <td>NaN</td>\n      <td>WP_121541263.1</td>\n      <td>NaN</td>\n      <td>NaN</td>\n      <td>WP_121541263.1</td>\n      <td>MDQSNRYADLSLNEADLIAGGKHLLVAYKLIPAEGYGFLEVAAHIA...</td>\n    </tr>\n    <tr>\n      <th>4</th>\n      <td>WP_067636326.1</td>\n      <td>Bona_Fide</td>\n      <td>I</td>\n      <td>E</td>\n      <td>Actinomadura latina</td>\n      <td>163603</td>\n      <td>477</td>\n      <td>Bacteria</td>\n      <td>Actinobacteria</td>\n      <td>Streptosporangiales</td>\n      <td>...</td>\n      <td>NaN</td>\n      <td>NaN</td>\n      <td>NaN</td>\n      <td>NaN</td>\n      <td>NaN</td>\n      <td>PZR66540.1</td>\n      <td>EMF57107.1</td>\n      <td>NaN</td>\n      <td>WP_151563615.1</td>\n      <td>MSSGRWSAGVIPYAEMGYWRPDYEPKDSDILAAFRITPQPGVPPEE...</td>\n    </tr>\n    <tr>\n      <th>7</th>\n      <td>WP_098410975.1</td>\n      <td>Bona_Fide</td>\n      <td>I</td>\n      <td>A</td>\n      <td>Thioclava sp. ES.031</td>\n      <td>1798203</td>\n      <td>477</td>\n      <td>Bacteria</td>\n      <td>Proteobacteria</td>\n      <td>Alphaproteobacteria</td>\n      <td>...</td>\n      <td>NaN</td>\n      <td>NaN</td>\n      <td>NaN</td>\n      <td>NaN</td>\n      <td>NaN</td>\n      <td>MBO9368004.1</td>\n      <td>MCF6320386.1</td>\n      <td>NaN</td>\n      <td>WP_098410975.1</td>\n      <td>MNEQSNPGKYSAGVKEYRETYWEPNYTPKESDVLAVFKITPQAGVP...</td>\n    </tr>\n    <tr>\n      <th>8</th>\n      <td>WP_212310925.1</td>\n      <td>Bona_Fide</td>\n      <td>I</td>\n      <td>C</td>\n      <td>unclassified Bradyrhizobium</td>\n      <td>2631580</td>\n      <td>487</td>\n      <td>Bacteria</td>\n      <td>Proteobacteria</td>\n      <td>Alphaproteobacteria</td>\n      <td>...</td>\n      <td>NaN</td>\n      <td>NaN</td>\n      <td>NaN</td>\n      <td>NaN</td>\n      <td>NaN</td>\n      <td>EWS56914.1</td>\n      <td>MBE1391961.1</td>\n      <td>NaN</td>\n      <td>MBE1391961.1</td>\n      <td>MNIQPSITVRGKDRYKSGVMEYKRMGYWEPNYEPKDTDVIALFRVT...</td>\n    </tr>\n  </tbody>\n</table>\n<p>5 rows × 33 columns</p>\n</div>"
     },
     "execution_count": 4,
     "metadata": {},
     "output_type": "execute_result"
    }
   ],
   "source": [
    "df_bonafide = df_rubs[df_rubs['Annotation'] == 'Bona_Fide']\n",
    "df_bonafide.head()"
   ],
   "metadata": {
    "collapsed": false,
    "ExecuteTime": {
     "end_time": "2023-11-30T01:04:28.377599Z",
     "start_time": "2023-11-30T01:04:28.240286Z"
    }
   },
   "id": "ed01de4122dde9ae"
  },
  {
   "cell_type": "code",
   "execution_count": 8,
   "outputs": [],
   "source": [
    "set_cl65 = set(df_bonafide['Cluster65'].tolist()) "
   ],
   "metadata": {
    "collapsed": false,
    "ExecuteTime": {
     "end_time": "2023-11-22T23:44:00.761417Z",
     "start_time": "2023-11-22T23:44:00.750205Z"
    }
   },
   "id": "285652cbbc16adf1"
  },
  {
   "cell_type": "code",
   "execution_count": 9,
   "outputs": [
    {
     "data": {
      "text/plain": "475"
     },
     "execution_count": 9,
     "metadata": {},
     "output_type": "execute_result"
    }
   ],
   "source": [
    "len(set_cl65)"
   ],
   "metadata": {
    "collapsed": false,
    "ExecuteTime": {
     "end_time": "2023-11-22T23:44:01.902721Z",
     "start_time": "2023-11-22T23:44:01.897629Z"
    }
   },
   "id": "dfa776e78afb1453"
  },
  {
   "cell_type": "code",
   "execution_count": 11,
   "outputs": [],
   "source": [
    "with open(output_list, 'a') as f:\n",
    "    for i in set_cl65:\n",
    "        line = f\"{i}\\n\"\n",
    "        f.write(line)"
   ],
   "metadata": {
    "collapsed": false,
    "ExecuteTime": {
     "end_time": "2023-11-22T23:44:27.764695Z",
     "start_time": "2023-11-22T23:44:27.759809Z"
    }
   },
   "id": "4de1c2a96c43d4a"
  }
 ],
 "metadata": {
  "kernelspec": {
   "display_name": "Python 3",
   "language": "python",
   "name": "python3"
  },
  "language_info": {
   "codemirror_mode": {
    "name": "ipython",
    "version": 2
   },
   "file_extension": ".py",
   "mimetype": "text/x-python",
   "name": "python",
   "nbconvert_exporter": "python",
   "pygments_lexer": "ipython2",
   "version": "2.7.6"
  }
 },
 "nbformat": 4,
 "nbformat_minor": 5
}
